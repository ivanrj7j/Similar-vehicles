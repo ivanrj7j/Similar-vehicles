{
 "cells": [
  {
   "cell_type": "markdown",
   "metadata": {},
   "source": [
    "# Preprocessing"
   ]
  },
  {
   "cell_type": "markdown",
   "metadata": {},
   "source": [
    "## Loading Data"
   ]
  },
  {
   "cell_type": "code",
   "execution_count": 1,
   "metadata": {},
   "outputs": [
    {
     "name": "stderr",
     "output_type": "stream",
     "text": [
      "c:\\Users\\foxin\\AppData\\Local\\Programs\\Python\\Python310\\lib\\site-packages\\numpy\\_distributor_init.py:30: UserWarning: loaded more than 1 DLL from .libs:\n",
      "c:\\Users\\foxin\\AppData\\Local\\Programs\\Python\\Python310\\lib\\site-packages\\numpy\\.libs\\libopenblas.XWYDX2IKJW2NMTWSFYNGFUWKQU3LYTCZ.gfortran-win_amd64.dll\n",
      "c:\\Users\\foxin\\AppData\\Local\\Programs\\Python\\Python310\\lib\\site-packages\\numpy\\.libs\\libopenblas64__v0.3.21-gcc_10_3_0.dll\n",
      "c:\\Users\\foxin\\AppData\\Local\\Programs\\Python\\Python310\\lib\\site-packages\\numpy\\.libs\\libopenblas64__v0.3.23-gcc_10_3_0.dll\n",
      "  warnings.warn(\"loaded more than 1 DLL from .libs:\"\n"
     ]
    }
   ],
   "source": [
    "import os\n",
    "from PIL import Image\n",
    "import cv2"
   ]
  },
  {
   "cell_type": "code",
   "execution_count": 4,
   "metadata": {},
   "outputs": [],
   "source": [
    "import numpy as np"
   ]
  },
  {
   "cell_type": "code",
   "execution_count": 9,
   "metadata": {},
   "outputs": [],
   "source": [
    "import matplotlib.pyplot as plt"
   ]
  },
  {
   "cell_type": "code",
   "execution_count": 17,
   "metadata": {},
   "outputs": [],
   "source": [
    "def getRawData(openImage = False):\n",
    "    for className in os.listdir(\"raw data\"):\n",
    "        for file in os.listdir(os.path.join(\"raw data\", className)):\n",
    "            if openImage:\n",
    "                yield (np.array(Image.open(os.path.join(\"raw data\", className, file))), className, file, os.path.join(\"raw data\", className, file))\n",
    "            else:\n",
    "                yield (className, file, os.path.join(\"raw data\", className, file))\n"
   ]
  },
  {
   "cell_type": "markdown",
   "metadata": {},
   "source": [
    "## Train Test Splitting"
   ]
  },
  {
   "cell_type": "code",
   "execution_count": 19,
   "metadata": {},
   "outputs": [],
   "source": [
    "rawData = list(getRawData())"
   ]
  },
  {
   "cell_type": "code",
   "execution_count": 21,
   "metadata": {},
   "outputs": [],
   "source": [
    "rawDataDict = {'bikes':[], 'cars':[], 'cycles':[], 'scooters':[], 'trucks':[]}\n",
    "\n",
    "for x,y,z in rawData:\n",
    "    rawDataDict[x].append(z)"
   ]
  },
  {
   "cell_type": "code",
   "execution_count": 26,
   "metadata": {},
   "outputs": [],
   "source": [
    "from random import shuffle"
   ]
  },
  {
   "cell_type": "code",
   "execution_count": 34,
   "metadata": {},
   "outputs": [],
   "source": [
    "partitionedData = {\n",
    "    'train':{\n",
    "        'bikes':[],\n",
    "        'cars':[],\n",
    "        'cycles':[],\n",
    "        'scooters':[],\n",
    "        'trucks':[],\n",
    "    },\n",
    "    'valid':{\n",
    "        'bikes':[],\n",
    "        'cars':[],\n",
    "        'cycles':[],\n",
    "        'scooters':[],\n",
    "        'trucks':[],\n",
    "    },\n",
    "    'test':{\n",
    "        'bikes':[],\n",
    "        'cars':[],\n",
    "        'cycles':[],\n",
    "        'scooters':[],\n",
    "        'trucks':[],\n",
    "    },\n",
    "}\n",
    "\n",
    "for key in rawDataDict:\n",
    "    shuffle(rawDataDict[key])\n",
    "    total = len(rawDataDict[key])\n",
    "    trainLen = round( total*0.75 )\n",
    "    vaildLen = round( total*0.15 )\n",
    "    \n",
    "    train = rawDataDict[key][:trainLen]\n",
    "    valid = rawDataDict[key][trainLen : trainLen+vaildLen]\n",
    "    test = rawDataDict[key][trainLen+vaildLen:]\n",
    "\n",
    "    partitionedData['train'][key] = train\n",
    "    partitionedData['valid'][key] = valid\n",
    "    partitionedData['test'][key] = test\n"
   ]
  },
  {
   "cell_type": "code",
   "execution_count": 36,
   "metadata": {},
   "outputs": [],
   "source": [
    "import shutil"
   ]
  },
  {
   "cell_type": "code",
   "execution_count": 38,
   "metadata": {},
   "outputs": [],
   "source": [
    "for partition in partitionedData:\n",
    "    for className in partitionedData[partition]:\n",
    "        for file in partitionedData[partition][className]:\n",
    "            fileName = file.split('\\\\')[-1]\n",
    "            destination = os.path.join(\"partitioned data\", partition, className, fileName)\n",
    "            shutil.copy(file, destination)"
   ]
  },
  {
   "cell_type": "markdown",
   "metadata": {},
   "source": [
    "## Augmenting Data"
   ]
  },
  {
   "cell_type": "code",
   "execution_count": 39,
   "metadata": {},
   "outputs": [],
   "source": [
    "import albumentations as A"
   ]
  },
  {
   "cell_type": "code",
   "execution_count": 43,
   "metadata": {},
   "outputs": [],
   "source": [
    "import uuid"
   ]
  },
  {
   "cell_type": "code",
   "execution_count": 41,
   "metadata": {},
   "outputs": [],
   "source": [
    "from typing import Union"
   ]
  },
  {
   "cell_type": "code",
   "execution_count": 40,
   "metadata": {},
   "outputs": [],
   "source": [
    "transform = A.Compose([\n",
    "    A.HorizontalFlip(),\n",
    "    A.RandomBrightnessContrast(),\n",
    "    A.RandomRotate90(),\n",
    "    A.Flip(),\n",
    "    A.RGBShift(),\n",
    "    A.HueSaturationValue(),\n",
    "    A.CLAHE(),\n",
    "    A.RandomGamma(),\n",
    "    A.Blur(),\n",
    "    A.ToGray(),\n",
    "    A.ImageCompression(),\n",
    "])\n",
    "# listing transformations "
   ]
  },
  {
   "cell_type": "code",
   "execution_count": 44,
   "metadata": {},
   "outputs": [],
   "source": [
    "def augment(imageList:list[str], partition:str, className:str, thread:int):\n",
    "    for i, image in enumerate(imageList):\n",
    "        img = np.array(Image.open(image))\n",
    "        for _ in range(15):\n",
    "            try:\n",
    "                augmentedImg = transform(image=img)['image']\n",
    "                augmentedImg = cv2.resize(augmentedImg, (256, 256))\n",
    "\n",
    "                cv2.imwrite(os.path.join('augmented data', partition, className, str(uuid.uuid1()) + '.jpg'), augmentedImg)\n",
    "                # augmenting image \n",
    "                \n",
    "            except Exception as e:\n",
    "                print(f'[ERROR] Couldnt augment image {image} [EXCEPTION] {e}')\n",
    "        cv2.imwrite(os.path.join('augmented data', partition, className, str(uuid.uuid1()) + '.jpg'), cv2.resize(img, (256, 256)))\n",
    "        print(f\"[THREAD {thread}] {round( (i/len(imageList))*100, 2)}% complete\", end='\\r')\n"
   ]
  },
  {
   "cell_type": "code",
   "execution_count": null,
   "metadata": {},
   "outputs": [],
   "source": []
  }
 ],
 "metadata": {
  "kernelspec": {
   "display_name": "Python 3",
   "language": "python",
   "name": "python3"
  },
  "language_info": {
   "codemirror_mode": {
    "name": "ipython",
    "version": 3
   },
   "file_extension": ".py",
   "mimetype": "text/x-python",
   "name": "python",
   "nbconvert_exporter": "python",
   "pygments_lexer": "ipython3",
   "version": "3.10.5"
  },
  "orig_nbformat": 4
 },
 "nbformat": 4,
 "nbformat_minor": 2
}
