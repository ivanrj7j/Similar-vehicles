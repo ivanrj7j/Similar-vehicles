{
  "nbformat": 4,
  "nbformat_minor": 0,
  "metadata": {
    "colab": {
      "provenance": [],
      "collapsed_sections": [
        "zGDu7IKs3ydN",
        "1I-5rTwv4nx8"
      ],
      "gpuType": "T4"
    },
    "kernelspec": {
      "name": "python3",
      "display_name": "Python 3"
    },
    "language_info": {
      "name": "python"
    },
    "accelerator": "GPU"
  },
  "cells": [
    {
      "cell_type": "markdown",
      "source": [
        "# Training model\n",
        "\n",
        "This was done in a colab environment to get gpu acceleration"
      ],
      "metadata": {
        "id": "_SMiBtBH3rIz"
      }
    },
    {
      "cell_type": "markdown",
      "source": [
        "## Loading Data"
      ],
      "metadata": {
        "id": "zGDu7IKs3ydN"
      }
    },
    {
      "cell_type": "code",
      "execution_count": 17,
      "metadata": {
        "id": "A3gTDma73cGe"
      },
      "outputs": [],
      "source": [
        "import tensorflow as tf\n",
        "from tensorflow import keras\n",
        "from keras.utils import image_dataset_from_directory\n",
        "import zipfile"
      ]
    },
    {
      "cell_type": "code",
      "source": [
        "filePath = \"/content/drive/MyDrive/vehicle similarity data.zip\"\n",
        "\n",
        "with zipfile.ZipFile(filePath, 'r') as f:\n",
        "  f.extractall('/content/')"
      ],
      "metadata": {
        "id": "g3z62xsS32dn"
      },
      "execution_count": 18,
      "outputs": []
    },
    {
      "cell_type": "code",
      "source": [
        "trainData = image_dataset_from_directory('/content/augmented data/train', label_mode='categorical')\n",
        "validData = image_dataset_from_directory('/content/augmented data/valid', label_mode='categorical')"
      ],
      "metadata": {
        "colab": {
          "base_uri": "https://localhost:8080/"
        },
        "id": "GqLJe9UH39cA",
        "outputId": "4c98229a-d71f-41c4-c240-d0d0b92844de"
      },
      "execution_count": 19,
      "outputs": [
        {
          "output_type": "stream",
          "name": "stdout",
          "text": [
            "Found 30060 files belonging to 5 classes.\n",
            "Found 6058 files belonging to 5 classes.\n"
          ]
        }
      ]
    },
    {
      "cell_type": "code",
      "source": [
        "trainData.class_names"
      ],
      "metadata": {
        "colab": {
          "base_uri": "https://localhost:8080/"
        },
        "id": "FduUqwW44dCF",
        "outputId": "62633854-2f2f-4f85-b78a-ad1456c0ed0e"
      },
      "execution_count": 20,
      "outputs": [
        {
          "output_type": "execute_result",
          "data": {
            "text/plain": [
              "['bikes', 'cars', 'cycles', 'scooters', 'trucks']"
            ]
          },
          "metadata": {},
          "execution_count": 20
        }
      ]
    },
    {
      "cell_type": "code",
      "source": [
        "len(validData.class_names)"
      ],
      "metadata": {
        "colab": {
          "base_uri": "https://localhost:8080/"
        },
        "id": "-2sz_eS64jgd",
        "outputId": "8436e689-61e4-4d15-f37d-8110d0992691"
      },
      "execution_count": 21,
      "outputs": [
        {
          "output_type": "execute_result",
          "data": {
            "text/plain": [
              "5"
            ]
          },
          "metadata": {},
          "execution_count": 21
        }
      ]
    },
    {
      "cell_type": "markdown",
      "source": [
        "## Creating Model"
      ],
      "metadata": {
        "id": "1I-5rTwv4nx8"
      }
    },
    {
      "cell_type": "code",
      "source": [
        "from keras import Sequential\n",
        "from keras.layers import Conv2D, Dense, Flatten, MaxPool2D, Dropout"
      ],
      "metadata": {
        "id": "ZFYztwwY4yc9"
      },
      "execution_count": 22,
      "outputs": []
    },
    {
      "cell_type": "code",
      "source": [
        "# from keras.applications.vgg16 import VGG16\n",
        "\n",
        "# # Load the VGG16 model without the fully connected layers at the top\n",
        "# preTrained = VGG16(weights='imagenet', include_top=False)\n",
        "\n",
        "# # summarize the model\n",
        "# preTrained.summary()\n"
      ],
      "metadata": {
        "id": "_Dte_3IxAZyg"
      },
      "execution_count": 23,
      "outputs": []
    },
    {
      "cell_type": "code",
      "source": [
        "# from keras.layers import GlobalMaxPool2D\n",
        "# from keras.models import Model"
      ],
      "metadata": {
        "id": "ZdWhCvyJA2y1"
      },
      "execution_count": 24,
      "outputs": []
    },
    {
      "cell_type": "code",
      "source": [
        "# # Add a global spatial average pooling layer\n",
        "# x = preTrained.output\n",
        "# x = GlobalMaxPool2D()(x)\n",
        "\n",
        "# # Add a fully connected layer\n",
        "# x = Dense(512, activation='relu')(x)\n",
        "# x = Dense(64, activation='relu')(x)\n",
        "# predictionLayer = Dense(5, activation='softmax')(x)"
      ],
      "metadata": {
        "id": "EHQrigG6A6x9"
      },
      "execution_count": 25,
      "outputs": []
    },
    {
      "cell_type": "code",
      "source": [
        "# model = Model(inputs=preTrained.input, outputs=predictionLayer)"
      ],
      "metadata": {
        "id": "TZlB_2fDBcD3"
      },
      "execution_count": 26,
      "outputs": []
    },
    {
      "cell_type": "code",
      "source": [
        "model = Sequential([\n",
        "    Conv2D(16, 3, 1, input_shape=(256, 256, 3), activation='relu'),\n",
        "    MaxPool2D(),\n",
        "    Dropout(0.25),\n",
        "\n",
        "    Conv2D(32, 3, 1, activation='relu'),\n",
        "    MaxPool2D(),\n",
        "    Dropout(0.3),\n",
        "\n",
        "    Conv2D(16, 3, 1, activation='relu'),\n",
        "    MaxPool2D(),\n",
        "    Dropout(0.25),\n",
        "\n",
        "    Flatten(),\n",
        "\n",
        "    Dense(512, activation='relu'),\n",
        "    Dropout(0.15),\n",
        "    Dense(64, activation='relu'),\n",
        "    Dropout(0.4),\n",
        "\n",
        "    Dense(5, activation='softmax')\n",
        "])"
      ],
      "metadata": {
        "id": "fMKpDFFpDC_Z"
      },
      "execution_count": 27,
      "outputs": []
    },
    {
      "cell_type": "code",
      "source": [
        "model.summary()"
      ],
      "metadata": {
        "colab": {
          "base_uri": "https://localhost:8080/"
        },
        "id": "N4Lswu4F5Bp0",
        "outputId": "f0d9c1ae-afa3-4505-81ff-625fb2db88cb"
      },
      "execution_count": 28,
      "outputs": [
        {
          "output_type": "stream",
          "name": "stdout",
          "text": [
            "Model: \"sequential_1\"\n",
            "_________________________________________________________________\n",
            " Layer (type)                Output Shape              Param #   \n",
            "=================================================================\n",
            " conv2d_3 (Conv2D)           (None, 254, 254, 16)      448       \n",
            "                                                                 \n",
            " max_pooling2d_3 (MaxPooling  (None, 127, 127, 16)     0         \n",
            " 2D)                                                             \n",
            "                                                                 \n",
            " dropout_4 (Dropout)         (None, 127, 127, 16)      0         \n",
            "                                                                 \n",
            " conv2d_4 (Conv2D)           (None, 125, 125, 32)      4640      \n",
            "                                                                 \n",
            " max_pooling2d_4 (MaxPooling  (None, 62, 62, 32)       0         \n",
            " 2D)                                                             \n",
            "                                                                 \n",
            " dropout_5 (Dropout)         (None, 62, 62, 32)        0         \n",
            "                                                                 \n",
            " conv2d_5 (Conv2D)           (None, 60, 60, 16)        4624      \n",
            "                                                                 \n",
            " max_pooling2d_5 (MaxPooling  (None, 30, 30, 16)       0         \n",
            " 2D)                                                             \n",
            "                                                                 \n",
            " dropout_6 (Dropout)         (None, 30, 30, 16)        0         \n",
            "                                                                 \n",
            " flatten_1 (Flatten)         (None, 14400)             0         \n",
            "                                                                 \n",
            " dense_3 (Dense)             (None, 512)               7373312   \n",
            "                                                                 \n",
            " dropout_7 (Dropout)         (None, 512)               0         \n",
            "                                                                 \n",
            " dense_4 (Dense)             (None, 64)                32832     \n",
            "                                                                 \n",
            " dropout_8 (Dropout)         (None, 64)                0         \n",
            "                                                                 \n",
            " dense_5 (Dense)             (None, 5)                 325       \n",
            "                                                                 \n",
            "=================================================================\n",
            "Total params: 7,416,181\n",
            "Trainable params: 7,416,181\n",
            "Non-trainable params: 0\n",
            "_________________________________________________________________\n"
          ]
        }
      ]
    },
    {
      "cell_type": "code",
      "source": [
        "from keras.losses import CategoricalCrossentropy"
      ],
      "metadata": {
        "id": "PkQKqhuU5Xda"
      },
      "execution_count": 29,
      "outputs": []
    },
    {
      "cell_type": "code",
      "source": [
        "model.compile(optimizer='adam', loss=CategoricalCrossentropy(), metrics=['accuracy'])"
      ],
      "metadata": {
        "id": "FP-tut515cJ-"
      },
      "execution_count": 30,
      "outputs": []
    },
    {
      "cell_type": "markdown",
      "source": [
        "## Training Model"
      ],
      "metadata": {
        "id": "Eo-NXYhF58rE"
      }
    },
    {
      "cell_type": "code",
      "source": [
        "hist = model.fit(trainData, epochs=30, validation_data=validData)"
      ],
      "metadata": {
        "colab": {
          "base_uri": "https://localhost:8080/"
        },
        "id": "KqQ3O5lq57eQ",
        "outputId": "e99c9ff7-c0c3-4bbb-be4e-70112b1dfdc5"
      },
      "execution_count": 31,
      "outputs": [
        {
          "output_type": "stream",
          "name": "stdout",
          "text": [
            "Epoch 1/30\n",
            "940/940 [==============================] - 71s 72ms/step - loss: 7.3743 - accuracy: 0.2221 - val_loss: 1.6092 - val_accuracy: 0.2176\n",
            "Epoch 2/30\n",
            "940/940 [==============================] - 71s 75ms/step - loss: 1.5986 - accuracy: 0.2506 - val_loss: 1.6282 - val_accuracy: 0.2194\n",
            "Epoch 3/30\n",
            "940/940 [==============================] - 64s 68ms/step - loss: 1.5772 - accuracy: 0.2722 - val_loss: 1.6288 - val_accuracy: 0.2605\n",
            "Epoch 4/30\n",
            "940/940 [==============================] - 68s 72ms/step - loss: 1.5362 - accuracy: 0.3091 - val_loss: 1.5338 - val_accuracy: 0.3361\n",
            "Epoch 5/30\n",
            "940/940 [==============================] - 64s 68ms/step - loss: 1.4315 - accuracy: 0.3811 - val_loss: 1.4367 - val_accuracy: 0.3963\n",
            "Epoch 6/30\n",
            "940/940 [==============================] - 64s 68ms/step - loss: 1.2777 - accuracy: 0.4565 - val_loss: 1.2809 - val_accuracy: 0.4871\n",
            "Epoch 7/30\n",
            "940/940 [==============================] - 62s 66ms/step - loss: 1.1306 - accuracy: 0.5399 - val_loss: 1.2233 - val_accuracy: 0.5291\n",
            "Epoch 8/30\n",
            "940/940 [==============================] - 62s 66ms/step - loss: 0.9685 - accuracy: 0.6198 - val_loss: 1.2651 - val_accuracy: 0.5220\n",
            "Epoch 9/30\n",
            "940/940 [==============================] - 61s 65ms/step - loss: 0.8041 - accuracy: 0.6967 - val_loss: 1.1639 - val_accuracy: 0.5688\n",
            "Epoch 10/30\n",
            "940/940 [==============================] - 66s 70ms/step - loss: 0.6519 - accuracy: 0.7575 - val_loss: 1.1931 - val_accuracy: 0.5622\n",
            "Epoch 11/30\n",
            "940/940 [==============================] - 60s 64ms/step - loss: 0.5227 - accuracy: 0.8169 - val_loss: 1.1924 - val_accuracy: 0.5837\n",
            "Epoch 12/30\n",
            "940/940 [==============================] - 60s 63ms/step - loss: 0.4349 - accuracy: 0.8543 - val_loss: 1.2080 - val_accuracy: 0.5863\n",
            "Epoch 13/30\n",
            "940/940 [==============================] - 61s 64ms/step - loss: 0.3709 - accuracy: 0.8787 - val_loss: 1.4072 - val_accuracy: 0.5825\n",
            "Epoch 14/30\n",
            "940/940 [==============================] - 60s 63ms/step - loss: 0.3045 - accuracy: 0.9032 - val_loss: 1.2938 - val_accuracy: 0.5918\n",
            "Epoch 15/30\n",
            "940/940 [==============================] - 59s 63ms/step - loss: 0.2700 - accuracy: 0.9170 - val_loss: 1.2484 - val_accuracy: 0.6058\n",
            "Epoch 16/30\n",
            "940/940 [==============================] - 60s 63ms/step - loss: 0.2397 - accuracy: 0.9275 - val_loss: 1.2935 - val_accuracy: 0.6009\n",
            "Epoch 17/30\n",
            "940/940 [==============================] - 61s 64ms/step - loss: 0.2070 - accuracy: 0.9380 - val_loss: 1.3889 - val_accuracy: 0.5972\n",
            "Epoch 18/30\n",
            "940/940 [==============================] - 62s 65ms/step - loss: 0.1914 - accuracy: 0.9449 - val_loss: 1.4476 - val_accuracy: 0.6043\n",
            "Epoch 19/30\n",
            "940/940 [==============================] - 59s 62ms/step - loss: 0.1640 - accuracy: 0.9539 - val_loss: 1.4882 - val_accuracy: 0.5974\n",
            "Epoch 20/30\n",
            "940/940 [==============================] - 59s 62ms/step - loss: 0.1591 - accuracy: 0.9570 - val_loss: 1.3550 - val_accuracy: 0.5888\n",
            "Epoch 21/30\n",
            "940/940 [==============================] - 64s 68ms/step - loss: 0.1450 - accuracy: 0.9602 - val_loss: 1.3450 - val_accuracy: 0.6060\n",
            "Epoch 22/30\n",
            "940/940 [==============================] - 59s 63ms/step - loss: 0.1254 - accuracy: 0.9679 - val_loss: 1.5615 - val_accuracy: 0.5919\n",
            "Epoch 23/30\n",
            "940/940 [==============================] - 59s 63ms/step - loss: 0.1251 - accuracy: 0.9655 - val_loss: 1.4495 - val_accuracy: 0.5974\n",
            "Epoch 24/30\n",
            "940/940 [==============================] - 62s 66ms/step - loss: 0.1251 - accuracy: 0.9672 - val_loss: 1.3843 - val_accuracy: 0.5611\n",
            "Epoch 25/30\n",
            "940/940 [==============================] - 59s 63ms/step - loss: 0.1366 - accuracy: 0.9666 - val_loss: 1.4732 - val_accuracy: 0.5926\n",
            "Epoch 26/30\n",
            "940/940 [==============================] - 60s 63ms/step - loss: 0.1154 - accuracy: 0.9706 - val_loss: 1.3319 - val_accuracy: 0.6124\n",
            "Epoch 27/30\n",
            "940/940 [==============================] - 59s 63ms/step - loss: 0.1133 - accuracy: 0.9718 - val_loss: 1.5270 - val_accuracy: 0.6080\n",
            "Epoch 28/30\n",
            "940/940 [==============================] - 61s 65ms/step - loss: 0.1034 - accuracy: 0.9729 - val_loss: 1.6061 - val_accuracy: 0.6098\n",
            "Epoch 29/30\n",
            "940/940 [==============================] - 64s 68ms/step - loss: 0.0914 - accuracy: 0.9767 - val_loss: 1.8803 - val_accuracy: 0.5583\n",
            "Epoch 30/30\n",
            "940/940 [==============================] - 59s 63ms/step - loss: 0.0966 - accuracy: 0.9764 - val_loss: 1.8972 - val_accuracy: 0.6023\n"
          ]
        }
      ]
    },
    {
      "cell_type": "code",
      "source": [
        "model.save('carSimilarity.h5')\n",
        "model.save('/content/drive/MyDrive/carSimilarity.h5')"
      ],
      "metadata": {
        "id": "VAclmmOZFtad"
      },
      "execution_count": 32,
      "outputs": []
    },
    {
      "cell_type": "code",
      "source": [
        "import matplotlib.pyplot as plt"
      ],
      "metadata": {
        "id": "TQDzRyjoOw-C"
      },
      "execution_count": 35,
      "outputs": []
    },
    {
      "cell_type": "code",
      "source": [
        "plt.plot(hist.history['accuracy'])\n",
        "plt.plot(hist.history['val_accuracy'])"
      ],
      "metadata": {
        "colab": {
          "base_uri": "https://localhost:8080/",
          "height": 448
        },
        "id": "NHLeyG-HOzbJ",
        "outputId": "eebe703e-35bb-42c6-b193-e1785e0f3a85"
      },
      "execution_count": 37,
      "outputs": [
        {
          "output_type": "execute_result",
          "data": {
            "text/plain": [
              "[<matplotlib.lines.Line2D at 0x7b572ec5b8e0>]"
            ]
          },
          "metadata": {},
          "execution_count": 37
        },
        {
          "output_type": "display_data",
          "data": {
            "text/plain": [
              "<Figure size 640x480 with 1 Axes>"
            ],
            "image/png": "[encoded data removed]"
          },
          "metadata": {}
        }
      ]
    },
    {
      "cell_type": "code",
      "source": [
        "plt.plot(hist.history['loss'])\n",
        "plt.plot(hist.history['val_loss'])"
      ],
      "metadata": {
        "colab": {
          "base_uri": "https://localhost:8080/",
          "height": 448
        },
        "id": "-pY71vjJO5e7",
        "outputId": "a9e595c4-55ed-41e9-9658-6fc8f888d5cf"
      },
      "execution_count": 36,
      "outputs": [
        {
          "output_type": "execute_result",
          "data": {
            "text/plain": [
              "[<matplotlib.lines.Line2D at 0x7b572ed67b50>]"
            ]
          },
          "metadata": {},
          "execution_count": 36
        },
        {
          "output_type": "display_data",
          "data": {
            "text/plain": [
              "<Figure size 640x480 with 1 Axes>"
            ],
            "image/png": "[encoded data removed]"
          },
          "metadata": {}
        }
      ]
    },
    {
      "cell_type": "markdown",
      "source": [
        "This model is clearly overfitted trash"
      ],
      "metadata": {
        "id": "9QlKqdPmO_bh"
      }
    },
    {
      "cell_type": "markdown",
      "source": [
        "## Creating Model 2"
      ],
      "metadata": {
        "id": "s-_favC3PJHh"
      }
    },
    {
      "cell_type": "code",
      "source": [
        "dir(keras.applications)"
      ],
      "metadata": {
        "colab": {
          "base_uri": "https://localhost:8080/"
        },
        "id": "LDEiE38BQxh_",
        "outputId": "58c25972-6f17-4134-af2f-a3930518c261"
      },
      "execution_count": 69,
      "outputs": [
        {
          "output_type": "execute_result",
          "data": {
            "text/plain": [
              "['ConvNeXtBase',\n",
              " 'ConvNeXtLarge',\n",
              " 'ConvNeXtSmall',\n",
              " 'ConvNeXtTiny',\n",
              " 'ConvNeXtXLarge',\n",
              " 'DenseNet121',\n",
              " 'DenseNet169',\n",
              " 'DenseNet201',\n",
              " 'EfficientNetB0',\n",
              " 'EfficientNetB1',\n",
              " 'EfficientNetB2',\n",
              " 'EfficientNetB3',\n",
              " 'EfficientNetB4',\n",
              " 'EfficientNetB5',\n",
              " 'EfficientNetB6',\n",
              " 'EfficientNetB7',\n",
              " 'EfficientNetV2B0',\n",
              " 'EfficientNetV2B1',\n",
              " 'EfficientNetV2B2',\n",
              " 'EfficientNetV2B3',\n",
              " 'EfficientNetV2L',\n",
              " 'EfficientNetV2M',\n",
              " 'EfficientNetV2S',\n",
              " 'InceptionResNetV2',\n",
              " 'InceptionV3',\n",
              " 'MobileNet',\n",
              " 'MobileNetV2',\n",
              " 'MobileNetV3Large',\n",
              " 'MobileNetV3Small',\n",
              " 'NASNetLarge',\n",
              " 'NASNetMobile',\n",
              " 'RegNetX002',\n",
              " 'RegNetX004',\n",
              " 'RegNetX006',\n",
              " 'RegNetX008',\n",
              " 'RegNetX016',\n",
              " 'RegNetX032',\n",
              " 'RegNetX040',\n",
              " 'RegNetX064',\n",
              " 'RegNetX080',\n",
              " 'RegNetX120',\n",
              " 'RegNetX160',\n",
              " 'RegNetX320',\n",
              " 'RegNetY002',\n",
              " 'RegNetY004',\n",
              " 'RegNetY006',\n",
              " 'RegNetY008',\n",
              " 'RegNetY016',\n",
              " 'RegNetY032',\n",
              " 'RegNetY040',\n",
              " 'RegNetY064',\n",
              " 'RegNetY080',\n",
              " 'RegNetY120',\n",
              " 'RegNetY160',\n",
              " 'RegNetY320',\n",
              " 'ResNet101',\n",
              " 'ResNet101V2',\n",
              " 'ResNet152',\n",
              " 'ResNet152V2',\n",
              " 'ResNet50',\n",
              " 'ResNet50V2',\n",
              " 'ResNetRS101',\n",
              " 'ResNetRS152',\n",
              " 'ResNetRS200',\n",
              " 'ResNetRS270',\n",
              " 'ResNetRS350',\n",
              " 'ResNetRS420',\n",
              " 'ResNetRS50',\n",
              " 'VGG16',\n",
              " 'VGG19',\n",
              " 'Xception',\n",
              " '__builtins__',\n",
              " '__cached__',\n",
              " '__doc__',\n",
              " '__file__',\n",
              " '__loader__',\n",
              " '__name__',\n",
              " '__package__',\n",
              " '__path__',\n",
              " '__spec__',\n",
              " '_sys',\n",
              " 'convnext',\n",
              " 'densenet',\n",
              " 'efficientnet',\n",
              " 'efficientnet_v2',\n",
              " 'imagenet_utils',\n",
              " 'inception_resnet_v2',\n",
              " 'inception_v3',\n",
              " 'mobilenet',\n",
              " 'mobilenet_v2',\n",
              " 'mobilenet_v3',\n",
              " 'nasnet',\n",
              " 'regnet',\n",
              " 'resnet',\n",
              " 'resnet50',\n",
              " 'resnet_rs',\n",
              " 'resnet_v2',\n",
              " 'vgg16',\n",
              " 'vgg19',\n",
              " 'xception']"
            ]
          },
          "metadata": {},
          "execution_count": 69
        }
      ]
    },
    {
      "cell_type": "code",
      "source": [
        "from keras.applications import MobileNet"
      ],
      "metadata": {
        "id": "JOmm-bc5RDAW"
      },
      "execution_count": 70,
      "outputs": []
    },
    {
      "cell_type": "code",
      "source": [
        "preTrained = MobileNet(weights='imagenet', include_top=False)"
      ],
      "metadata": {
        "colab": {
          "base_uri": "https://localhost:8080/"
        },
        "id": "DLrMIjdrRLc2",
        "outputId": "1d147e10-19d5-4e9b-e100-188d6e414fba"
      },
      "execution_count": 71,
      "outputs": [
        {
          "output_type": "stream",
          "name": "stderr",
          "text": [
            "WARNING:tensorflow:`input_shape` is undefined or non-square, or `rows` is not in [128, 160, 192, 224]. Weights for input shape (224, 224) will be loaded as the default.\n"
          ]
        }
      ]
    },
    {
      "cell_type": "code",
      "source": [
        "preTrained.summary()"
      ],
      "metadata": {
        "colab": {
          "base_uri": "https://localhost:8080/"
        },
        "id": "UQkkzwvNRYH0",
        "outputId": "2dc16d36-3288-4b33-9370-b209172daa5b"
      },
      "execution_count": 72,
      "outputs": [
        {
          "output_type": "stream",
          "name": "stdout",
          "text": [
            "Model: \"mobilenet_1.00_224\"\n",
            "_________________________________________________________________\n",
            " Layer (type)                Output Shape              Param #   \n",
            "=================================================================\n",
            " input_6 (InputLayer)        [(None, None, None, 3)]   0         \n",
            "                                                                 \n",
            " conv1 (Conv2D)              (None, None, None, 32)    864       \n",
            "                                                                 \n",
            " conv1_bn (BatchNormalizatio  (None, None, None, 32)   128       \n",
            " n)                                                              \n",
            "                                                                 \n",
            " conv1_relu (ReLU)           (None, None, None, 32)    0         \n",
            "                                                                 \n",
            " conv_dw_1 (DepthwiseConv2D)  (None, None, None, 32)   288       \n",
            "                                                                 \n",
            " conv_dw_1_bn (BatchNormaliz  (None, None, None, 32)   128       \n",
            " ation)                                                          \n",
            "                                                                 \n",
            " conv_dw_1_relu (ReLU)       (None, None, None, 32)    0         \n",
            "                                                                 \n",
            " conv_pw_1 (Conv2D)          (None, None, None, 64)    2048      \n",
            "                                                                 \n",
            " conv_pw_1_bn (BatchNormaliz  (None, None, None, 64)   256       \n",
            " ation)                                                          \n",
            "                                                                 \n",
            " conv_pw_1_relu (ReLU)       (None, None, None, 64)    0         \n",
            "                                                                 \n",
            " conv_pad_2 (ZeroPadding2D)  (None, None, None, 64)    0         \n",
            "                                                                 \n",
            " conv_dw_2 (DepthwiseConv2D)  (None, None, None, 64)   576       \n",
            "                                                                 \n",
            " conv_dw_2_bn (BatchNormaliz  (None, None, None, 64)   256       \n",
            " ation)                                                          \n",
            "                                                                 \n",
            " conv_dw_2_relu (ReLU)       (None, None, None, 64)    0         \n",
            "                                                                 \n",
            " conv_pw_2 (Conv2D)          (None, None, None, 128)   8192      \n",
            "                                                                 \n",
            " conv_pw_2_bn (BatchNormaliz  (None, None, None, 128)  512       \n",
            " ation)                                                          \n",
            "                                                                 \n",
            " conv_pw_2_relu (ReLU)       (None, None, None, 128)   0         \n",
            "                                                                 \n",
            " conv_dw_3 (DepthwiseConv2D)  (None, None, None, 128)  1152      \n",
            "                                                                 \n",
            " conv_dw_3_bn (BatchNormaliz  (None, None, None, 128)  512       \n",
            " ation)                                                          \n",
            "                                                                 \n",
            " conv_dw_3_relu (ReLU)       (None, None, None, 128)   0         \n",
            "                                                                 \n",
            " conv_pw_3 (Conv2D)          (None, None, None, 128)   16384     \n",
            "                                                                 \n",
            " conv_pw_3_bn (BatchNormaliz  (None, None, None, 128)  512       \n",
            " ation)                                                          \n",
            "                                                                 \n",
            " conv_pw_3_relu (ReLU)       (None, None, None, 128)   0         \n",
            "                                                                 \n",
            " conv_pad_4 (ZeroPadding2D)  (None, None, None, 128)   0         \n",
            "                                                                 \n",
            " conv_dw_4 (DepthwiseConv2D)  (None, None, None, 128)  1152      \n",
            "                                                                 \n",
            " conv_dw_4_bn (BatchNormaliz  (None, None, None, 128)  512       \n",
            " ation)                                                          \n",
            "                                                                 \n",
            " conv_dw_4_relu (ReLU)       (None, None, None, 128)   0         \n",
            "                                                                 \n",
            " conv_pw_4 (Conv2D)          (None, None, None, 256)   32768     \n",
            "                                                                 \n",
            " conv_pw_4_bn (BatchNormaliz  (None, None, None, 256)  1024      \n",
            " ation)                                                          \n",
            "                                                                 \n",
            " conv_pw_4_relu (ReLU)       (None, None, None, 256)   0         \n",
            "                                                                 \n",
            " conv_dw_5 (DepthwiseConv2D)  (None, None, None, 256)  2304      \n",
            "                                                                 \n",
            " conv_dw_5_bn (BatchNormaliz  (None, None, None, 256)  1024      \n",
            " ation)                                                          \n",
            "                                                                 \n",
            " conv_dw_5_relu (ReLU)       (None, None, None, 256)   0         \n",
            "                                                                 \n",
            " conv_pw_5 (Conv2D)          (None, None, None, 256)   65536     \n",
            "                                                                 \n",
            " conv_pw_5_bn (BatchNormaliz  (None, None, None, 256)  1024      \n",
            " ation)                                                          \n",
            "                                                                 \n",
            " conv_pw_5_relu (ReLU)       (None, None, None, 256)   0         \n",
            "                                                                 \n",
            " conv_pad_6 (ZeroPadding2D)  (None, None, None, 256)   0         \n",
            "                                                                 \n",
            " conv_dw_6 (DepthwiseConv2D)  (None, None, None, 256)  2304      \n",
            "                                                                 \n",
            " conv_dw_6_bn (BatchNormaliz  (None, None, None, 256)  1024      \n",
            " ation)                                                          \n",
            "                                                                 \n",
            " conv_dw_6_relu (ReLU)       (None, None, None, 256)   0         \n",
            "                                                                 \n",
            " conv_pw_6 (Conv2D)          (None, None, None, 512)   131072    \n",
            "                                                                 \n",
            " conv_pw_6_bn (BatchNormaliz  (None, None, None, 512)  2048      \n",
            " ation)                                                          \n",
            "                                                                 \n",
            " conv_pw_6_relu (ReLU)       (None, None, None, 512)   0         \n",
            "                                                                 \n",
            " conv_dw_7 (DepthwiseConv2D)  (None, None, None, 512)  4608      \n",
            "                                                                 \n",
            " conv_dw_7_bn (BatchNormaliz  (None, None, None, 512)  2048      \n",
            " ation)                                                          \n",
            "                                                                 \n",
            " conv_dw_7_relu (ReLU)       (None, None, None, 512)   0         \n",
            "                                                                 \n",
            " conv_pw_7 (Conv2D)          (None, None, None, 512)   262144    \n",
            "                                                                 \n",
            " conv_pw_7_bn (BatchNormaliz  (None, None, None, 512)  2048      \n",
            " ation)                                                          \n",
            "                                                                 \n",
            " conv_pw_7_relu (ReLU)       (None, None, None, 512)   0         \n",
            "                                                                 \n",
            " conv_dw_8 (DepthwiseConv2D)  (None, None, None, 512)  4608      \n",
            "                                                                 \n",
            " conv_dw_8_bn (BatchNormaliz  (None, None, None, 512)  2048      \n",
            " ation)                                                          \n",
            "                                                                 \n",
            " conv_dw_8_relu (ReLU)       (None, None, None, 512)   0         \n",
            "                                                                 \n",
            " conv_pw_8 (Conv2D)          (None, None, None, 512)   262144    \n",
            "                                                                 \n",
            " conv_pw_8_bn (BatchNormaliz  (None, None, None, 512)  2048      \n",
            " ation)                                                          \n",
            "                                                                 \n",
            " conv_pw_8_relu (ReLU)       (None, None, None, 512)   0         \n",
            "                                                                 \n",
            " conv_dw_9 (DepthwiseConv2D)  (None, None, None, 512)  4608      \n",
            "                                                                 \n",
            " conv_dw_9_bn (BatchNormaliz  (None, None, None, 512)  2048      \n",
            " ation)                                                          \n",
            "                                                                 \n",
            " conv_dw_9_relu (ReLU)       (None, None, None, 512)   0         \n",
            "                                                                 \n",
            " conv_pw_9 (Conv2D)          (None, None, None, 512)   262144    \n",
            "                                                                 \n",
            " conv_pw_9_bn (BatchNormaliz  (None, None, None, 512)  2048      \n",
            " ation)                                                          \n",
            "                                                                 \n",
            " conv_pw_9_relu (ReLU)       (None, None, None, 512)   0         \n",
            "                                                                 \n",
            " conv_dw_10 (DepthwiseConv2D  (None, None, None, 512)  4608      \n",
            " )                                                               \n",
            "                                                                 \n",
            " conv_dw_10_bn (BatchNormali  (None, None, None, 512)  2048      \n",
            " zation)                                                         \n",
            "                                                                 \n",
            " conv_dw_10_relu (ReLU)      (None, None, None, 512)   0         \n",
            "                                                                 \n",
            " conv_pw_10 (Conv2D)         (None, None, None, 512)   262144    \n",
            "                                                                 \n",
            " conv_pw_10_bn (BatchNormali  (None, None, None, 512)  2048      \n",
            " zation)                                                         \n",
            "                                                                 \n",
            " conv_pw_10_relu (ReLU)      (None, None, None, 512)   0         \n",
            "                                                                 \n",
            " conv_dw_11 (DepthwiseConv2D  (None, None, None, 512)  4608      \n",
            " )                                                               \n",
            "                                                                 \n",
            " conv_dw_11_bn (BatchNormali  (None, None, None, 512)  2048      \n",
            " zation)                                                         \n",
            "                                                                 \n",
            " conv_dw_11_relu (ReLU)      (None, None, None, 512)   0         \n",
            "                                                                 \n",
            " conv_pw_11 (Conv2D)         (None, None, None, 512)   262144    \n",
            "                                                                 \n",
            " conv_pw_11_bn (BatchNormali  (None, None, None, 512)  2048      \n",
            " zation)                                                         \n",
            "                                                                 \n",
            " conv_pw_11_relu (ReLU)      (None, None, None, 512)   0         \n",
            "                                                                 \n",
            " conv_pad_12 (ZeroPadding2D)  (None, None, None, 512)  0         \n",
            "                                                                 \n",
            " conv_dw_12 (DepthwiseConv2D  (None, None, None, 512)  4608      \n",
            " )                                                               \n",
            "                                                                 \n",
            " conv_dw_12_bn (BatchNormali  (None, None, None, 512)  2048      \n",
            " zation)                                                         \n",
            "                                                                 \n",
            " conv_dw_12_relu (ReLU)      (None, None, None, 512)   0         \n",
            "                                                                 \n",
            " conv_pw_12 (Conv2D)         (None, None, None, 1024)  524288    \n",
            "                                                                 \n",
            " conv_pw_12_bn (BatchNormali  (None, None, None, 1024)  4096     \n",
            " zation)                                                         \n",
            "                                                                 \n",
            " conv_pw_12_relu (ReLU)      (None, None, None, 1024)  0         \n",
            "                                                                 \n",
            " conv_dw_13 (DepthwiseConv2D  (None, None, None, 1024)  9216     \n",
            " )                                                               \n",
            "                                                                 \n",
            " conv_dw_13_bn (BatchNormali  (None, None, None, 1024)  4096     \n",
            " zation)                                                         \n",
            "                                                                 \n",
            " conv_dw_13_relu (ReLU)      (None, None, None, 1024)  0         \n",
            "                                                                 \n",
            " conv_pw_13 (Conv2D)         (None, None, None, 1024)  1048576   \n",
            "                                                                 \n",
            " conv_pw_13_bn (BatchNormali  (None, None, None, 1024)  4096     \n",
            " zation)                                                         \n",
            "                                                                 \n",
            " conv_pw_13_relu (ReLU)      (None, None, None, 1024)  0         \n",
            "                                                                 \n",
            "=================================================================\n",
            "Total params: 3,228,864\n",
            "Trainable params: 3,206,976\n",
            "Non-trainable params: 21,888\n",
            "_________________________________________________________________\n"
          ]
        }
      ]
    },
    {
      "cell_type": "code",
      "source": [
        "from keras.layers import GlobalMaxPool2D\n",
        "from keras.models import Model"
      ],
      "metadata": {
        "id": "MlIcHZU8PMDB"
      },
      "execution_count": 73,
      "outputs": []
    },
    {
      "cell_type": "code",
      "source": [
        "# Add a global spatial average pooling layer\n",
        "x = preTrained.output\n",
        "x = GlobalMaxPool2D()(x)\n",
        "\n",
        "# Add a fully connected layer\n",
        "x = Dropout(0.3)(x)\n",
        "x = Dense(512, activation='relu')(x)\n",
        "x = Dense(64, activation='relu')(x)\n",
        "predictionLayer = Dense(5, activation='softmax')(x)"
      ],
      "metadata": {
        "id": "5mH2f5pBSM0M"
      },
      "execution_count": 74,
      "outputs": []
    },
    {
      "cell_type": "code",
      "source": [
        "model2 = Model(inputs=preTrained.input, outputs=predictionLayer)"
      ],
      "metadata": {
        "id": "ZJneilCxSbrk"
      },
      "execution_count": 75,
      "outputs": []
    },
    {
      "cell_type": "code",
      "source": [
        "model2.summary()"
      ],
      "metadata": {
        "colab": {
          "base_uri": "https://localhost:8080/"
        },
        "id": "NbpzO4yWSl4D",
        "outputId": "2030bffe-7355-4727-c089-c1f0214a240e"
      },
      "execution_count": 76,
      "outputs": [
        {
          "output_type": "stream",
          "name": "stdout",
          "text": [
            "Model: \"model_3\"\n",
            "_________________________________________________________________\n",
            " Layer (type)                Output Shape              Param #   \n",
            "=================================================================\n",
            " input_6 (InputLayer)        [(None, None, None, 3)]   0         \n",
            "                                                                 \n",
            " conv1 (Conv2D)              (None, None, None, 32)    864       \n",
            "                                                                 \n",
            " conv1_bn (BatchNormalizatio  (None, None, None, 32)   128       \n",
            " n)                                                              \n",
            "                                                                 \n",
            " conv1_relu (ReLU)           (None, None, None, 32)    0         \n",
            "                                                                 \n",
            " conv_dw_1 (DepthwiseConv2D)  (None, None, None, 32)   288       \n",
            "                                                                 \n",
            " conv_dw_1_bn (BatchNormaliz  (None, None, None, 32)   128       \n",
            " ation)                                                          \n",
            "                                                                 \n",
            " conv_dw_1_relu (ReLU)       (None, None, None, 32)    0         \n",
            "                                                                 \n",
            " conv_pw_1 (Conv2D)          (None, None, None, 64)    2048      \n",
            "                                                                 \n",
            " conv_pw_1_bn (BatchNormaliz  (None, None, None, 64)   256       \n",
            " ation)                                                          \n",
            "                                                                 \n",
            " conv_pw_1_relu (ReLU)       (None, None, None, 64)    0         \n",
            "                                                                 \n",
            " conv_pad_2 (ZeroPadding2D)  (None, None, None, 64)    0         \n",
            "                                                                 \n",
            " conv_dw_2 (DepthwiseConv2D)  (None, None, None, 64)   576       \n",
            "                                                                 \n",
            " conv_dw_2_bn (BatchNormaliz  (None, None, None, 64)   256       \n",
            " ation)                                                          \n",
            "                                                                 \n",
            " conv_dw_2_relu (ReLU)       (None, None, None, 64)    0         \n",
            "                                                                 \n",
            " conv_pw_2 (Conv2D)          (None, None, None, 128)   8192      \n",
            "                                                                 \n",
            " conv_pw_2_bn (BatchNormaliz  (None, None, None, 128)  512       \n",
            " ation)                                                          \n",
            "                                                                 \n",
            " conv_pw_2_relu (ReLU)       (None, None, None, 128)   0         \n",
            "                                                                 \n",
            " conv_dw_3 (DepthwiseConv2D)  (None, None, None, 128)  1152      \n",
            "                                                                 \n",
            " conv_dw_3_bn (BatchNormaliz  (None, None, None, 128)  512       \n",
            " ation)                                                          \n",
            "                                                                 \n",
            " conv_dw_3_relu (ReLU)       (None, None, None, 128)   0         \n",
            "                                                                 \n",
            " conv_pw_3 (Conv2D)          (None, None, None, 128)   16384     \n",
            "                                                                 \n",
            " conv_pw_3_bn (BatchNormaliz  (None, None, None, 128)  512       \n",
            " ation)                                                          \n",
            "                                                                 \n",
            " conv_pw_3_relu (ReLU)       (None, None, None, 128)   0         \n",
            "                                                                 \n",
            " conv_pad_4 (ZeroPadding2D)  (None, None, None, 128)   0         \n",
            "                                                                 \n",
            " conv_dw_4 (DepthwiseConv2D)  (None, None, None, 128)  1152      \n",
            "                                                                 \n",
            " conv_dw_4_bn (BatchNormaliz  (None, None, None, 128)  512       \n",
            " ation)                                                          \n",
            "                                                                 \n",
            " conv_dw_4_relu (ReLU)       (None, None, None, 128)   0         \n",
            "                                                                 \n",
            " conv_pw_4 (Conv2D)          (None, None, None, 256)   32768     \n",
            "                                                                 \n",
            " conv_pw_4_bn (BatchNormaliz  (None, None, None, 256)  1024      \n",
            " ation)                                                          \n",
            "                                                                 \n",
            " conv_pw_4_relu (ReLU)       (None, None, None, 256)   0         \n",
            "                                                                 \n",
            " conv_dw_5 (DepthwiseConv2D)  (None, None, None, 256)  2304      \n",
            "                                                                 \n",
            " conv_dw_5_bn (BatchNormaliz  (None, None, None, 256)  1024      \n",
            " ation)                                                          \n",
            "                                                                 \n",
            " conv_dw_5_relu (ReLU)       (None, None, None, 256)   0         \n",
            "                                                                 \n",
            " conv_pw_5 (Conv2D)          (None, None, None, 256)   65536     \n",
            "                                                                 \n",
            " conv_pw_5_bn (BatchNormaliz  (None, None, None, 256)  1024      \n",
            " ation)                                                          \n",
            "                                                                 \n",
            " conv_pw_5_relu (ReLU)       (None, None, None, 256)   0         \n",
            "                                                                 \n",
            " conv_pad_6 (ZeroPadding2D)  (None, None, None, 256)   0         \n",
            "                                                                 \n",
            " conv_dw_6 (DepthwiseConv2D)  (None, None, None, 256)  2304      \n",
            "                                                                 \n",
            " conv_dw_6_bn (BatchNormaliz  (None, None, None, 256)  1024      \n",
            " ation)                                                          \n",
            "                                                                 \n",
            " conv_dw_6_relu (ReLU)       (None, None, None, 256)   0         \n",
            "                                                                 \n",
            " conv_pw_6 (Conv2D)          (None, None, None, 512)   131072    \n",
            "                                                                 \n",
            " conv_pw_6_bn (BatchNormaliz  (None, None, None, 512)  2048      \n",
            " ation)                                                          \n",
            "                                                                 \n",
            " conv_pw_6_relu (ReLU)       (None, None, None, 512)   0         \n",
            "                                                                 \n",
            " conv_dw_7 (DepthwiseConv2D)  (None, None, None, 512)  4608      \n",
            "                                                                 \n",
            " conv_dw_7_bn (BatchNormaliz  (None, None, None, 512)  2048      \n",
            " ation)                                                          \n",
            "                                                                 \n",
            " conv_dw_7_relu (ReLU)       (None, None, None, 512)   0         \n",
            "                                                                 \n",
            " conv_pw_7 (Conv2D)          (None, None, None, 512)   262144    \n",
            "                                                                 \n",
            " conv_pw_7_bn (BatchNormaliz  (None, None, None, 512)  2048      \n",
            " ation)                                                          \n",
            "                                                                 \n",
            " conv_pw_7_relu (ReLU)       (None, None, None, 512)   0         \n",
            "                                                                 \n",
            " conv_dw_8 (DepthwiseConv2D)  (None, None, None, 512)  4608      \n",
            "                                                                 \n",
            " conv_dw_8_bn (BatchNormaliz  (None, None, None, 512)  2048      \n",
            " ation)                                                          \n",
            "                                                                 \n",
            " conv_dw_8_relu (ReLU)       (None, None, None, 512)   0         \n",
            "                                                                 \n",
            " conv_pw_8 (Conv2D)          (None, None, None, 512)   262144    \n",
            "                                                                 \n",
            " conv_pw_8_bn (BatchNormaliz  (None, None, None, 512)  2048      \n",
            " ation)                                                          \n",
            "                                                                 \n",
            " conv_pw_8_relu (ReLU)       (None, None, None, 512)   0         \n",
            "                                                                 \n",
            " conv_dw_9 (DepthwiseConv2D)  (None, None, None, 512)  4608      \n",
            "                                                                 \n",
            " conv_dw_9_bn (BatchNormaliz  (None, None, None, 512)  2048      \n",
            " ation)                                                          \n",
            "                                                                 \n",
            " conv_dw_9_relu (ReLU)       (None, None, None, 512)   0         \n",
            "                                                                 \n",
            " conv_pw_9 (Conv2D)          (None, None, None, 512)   262144    \n",
            "                                                                 \n",
            " conv_pw_9_bn (BatchNormaliz  (None, None, None, 512)  2048      \n",
            " ation)                                                          \n",
            "                                                                 \n",
            " conv_pw_9_relu (ReLU)       (None, None, None, 512)   0         \n",
            "                                                                 \n",
            " conv_dw_10 (DepthwiseConv2D  (None, None, None, 512)  4608      \n",
            " )                                                               \n",
            "                                                                 \n",
            " conv_dw_10_bn (BatchNormali  (None, None, None, 512)  2048      \n",
            " zation)                                                         \n",
            "                                                                 \n",
            " conv_dw_10_relu (ReLU)      (None, None, None, 512)   0         \n",
            "                                                                 \n",
            " conv_pw_10 (Conv2D)         (None, None, None, 512)   262144    \n",
            "                                                                 \n",
            " conv_pw_10_bn (BatchNormali  (None, None, None, 512)  2048      \n",
            " zation)                                                         \n",
            "                                                                 \n",
            " conv_pw_10_relu (ReLU)      (None, None, None, 512)   0         \n",
            "                                                                 \n",
            " conv_dw_11 (DepthwiseConv2D  (None, None, None, 512)  4608      \n",
            " )                                                               \n",
            "                                                                 \n",
            " conv_dw_11_bn (BatchNormali  (None, None, None, 512)  2048      \n",
            " zation)                                                         \n",
            "                                                                 \n",
            " conv_dw_11_relu (ReLU)      (None, None, None, 512)   0         \n",
            "                                                                 \n",
            " conv_pw_11 (Conv2D)         (None, None, None, 512)   262144    \n",
            "                                                                 \n",
            " conv_pw_11_bn (BatchNormali  (None, None, None, 512)  2048      \n",
            " zation)                                                         \n",
            "                                                                 \n",
            " conv_pw_11_relu (ReLU)      (None, None, None, 512)   0         \n",
            "                                                                 \n",
            " conv_pad_12 (ZeroPadding2D)  (None, None, None, 512)  0         \n",
            "                                                                 \n",
            " conv_dw_12 (DepthwiseConv2D  (None, None, None, 512)  4608      \n",
            " )                                                               \n",
            "                                                                 \n",
            " conv_dw_12_bn (BatchNormali  (None, None, None, 512)  2048      \n",
            " zation)                                                         \n",
            "                                                                 \n",
            " conv_dw_12_relu (ReLU)      (None, None, None, 512)   0         \n",
            "                                                                 \n",
            " conv_pw_12 (Conv2D)         (None, None, None, 1024)  524288    \n",
            "                                                                 \n",
            " conv_pw_12_bn (BatchNormali  (None, None, None, 1024)  4096     \n",
            " zation)                                                         \n",
            "                                                                 \n",
            " conv_pw_12_relu (ReLU)      (None, None, None, 1024)  0         \n",
            "                                                                 \n",
            " conv_dw_13 (DepthwiseConv2D  (None, None, None, 1024)  9216     \n",
            " )                                                               \n",
            "                                                                 \n",
            " conv_dw_13_bn (BatchNormali  (None, None, None, 1024)  4096     \n",
            " zation)                                                         \n",
            "                                                                 \n",
            " conv_dw_13_relu (ReLU)      (None, None, None, 1024)  0         \n",
            "                                                                 \n",
            " conv_pw_13 (Conv2D)         (None, None, None, 1024)  1048576   \n",
            "                                                                 \n",
            " conv_pw_13_bn (BatchNormali  (None, None, None, 1024)  4096     \n",
            " zation)                                                         \n",
            "                                                                 \n",
            " conv_pw_13_relu (ReLU)      (None, None, None, 1024)  0         \n",
            "                                                                 \n",
            " global_max_pooling2d_2 (Glo  (None, 1024)             0         \n",
            " balMaxPooling2D)                                                \n",
            "                                                                 \n",
            " dropout_11 (Dropout)        (None, 1024)              0         \n",
            "                                                                 \n",
            " dense_12 (Dense)            (None, 512)               524800    \n",
            "                                                                 \n",
            " dense_13 (Dense)            (None, 64)                32832     \n",
            "                                                                 \n",
            " dense_14 (Dense)            (None, 5)                 325       \n",
            "                                                                 \n",
            "=================================================================\n",
            "Total params: 3,786,821\n",
            "Trainable params: 3,764,933\n",
            "Non-trainable params: 21,888\n",
            "_________________________________________________________________\n"
          ]
        }
      ]
    },
    {
      "cell_type": "code",
      "source": [
        "model2.compile(optimizer='adam', metrics=['accuracy'], loss=CategoricalCrossentropy())"
      ],
      "metadata": {
        "id": "Jj2sHi0wSrdK"
      },
      "execution_count": 77,
      "outputs": []
    },
    {
      "cell_type": "code",
      "source": [
        "model2.fit(trainData, epochs=5, validation_data=validData)"
      ],
      "metadata": {
        "colab": {
          "base_uri": "https://localhost:8080/"
        },
        "id": "_0pt1lOsS6yD",
        "outputId": "aa70f37f-eda4-4bb1-c5b8-4059d3960234"
      },
      "execution_count": 78,
      "outputs": [
        {
          "output_type": "stream",
          "name": "stdout",
          "text": [
            "Epoch 1/5\n",
            "940/940 [==============================] - 207s 159ms/step - loss: 0.4900 - accuracy: 0.8408 - val_loss: 0.4944 - val_accuracy: 0.8437\n",
            "Epoch 2/5\n",
            "940/940 [==============================] - 148s 158ms/step - loss: 0.1770 - accuracy: 0.9404 - val_loss: 0.6913 - val_accuracy: 0.8169\n",
            "Epoch 3/5\n",
            "940/940 [==============================] - 148s 157ms/step - loss: 0.1356 - accuracy: 0.9549 - val_loss: 0.4854 - val_accuracy: 0.8694\n",
            "Epoch 4/5\n",
            "940/940 [==============================] - 148s 158ms/step - loss: 0.1134 - accuracy: 0.9624 - val_loss: 0.3724 - val_accuracy: 0.8854\n",
            "Epoch 5/5\n",
            "940/940 [==============================] - 147s 157ms/step - loss: 0.0967 - accuracy: 0.9692 - val_loss: 0.4520 - val_accuracy: 0.8618\n"
          ]
        },
        {
          "output_type": "execute_result",
          "data": {
            "text/plain": [
              "<keras.callbacks.History at 0x7b5618505120>"
            ]
          },
          "metadata": {},
          "execution_count": 78
        }
      ]
    },
    {
      "cell_type": "code",
      "source": [
        "model.save('drive/MyDrive/carSimilarityV1.h5')"
      ],
      "metadata": {
        "id": "8vvbTwP7azwL"
      },
      "execution_count": 82,
      "outputs": []
    },
    {
      "cell_type": "code",
      "source": [
        "model2.save('drive/MyDrive/carSimilarityV2.h5')\n",
        "model2.save('carSimilarityV2.h5')"
      ],
      "metadata": {
        "id": "cPfkcexKTF-i"
      },
      "execution_count": 81,
      "outputs": []
    },
    {
      "cell_type": "code",
      "source": [
        "# Created 2 models"
      ],
      "metadata": {
        "id": "gLhixf76bDLi"
      },
      "execution_count": null,
      "outputs": []
    }
  ]
}